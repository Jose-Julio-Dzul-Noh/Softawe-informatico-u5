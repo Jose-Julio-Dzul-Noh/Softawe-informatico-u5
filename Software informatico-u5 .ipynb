{
 "cells": [
  {
   "cell_type": "code",
   "execution_count": null,
   "metadata": {},
   "outputs": [],
   "source": [
    "#software informatico\n",
    "#Materia:Metodos Numericos\n",
    "#Docente:MM.Jorge Pool Cen\n",
    "#unidad 5\n",
    "#Sistemas computacionales 4-A\n",
    "#Integrantes del equipo:\n",
    "#Dzul Noh Jose Julio\n",
    "#Llanes Barrera Luis Angel\n",
    "#Poot Pool Riger Emmanuel"
   ]
  },
  {
   "cell_type": "markdown",
   "metadata": {},
   "source": [
    "Resolver los siguientes ejercicios con los métodos de Lagrange y de Newton. Pueden apoyarse de cóódigos de programación para estimar las primeras diferencias. En caso de que en los ejercicio no proporcione la función de procedencia de los datos, se sugiere hacer una gráfica solamente de las estimaciones. (basarse en el ejemplo de arriba y colocar el titulo, sólo será una línea).\n",
    "\n",
    "+ Solo Lagrange. Modelar la siguiente tabla de observaciones de puntos(tiempo) y velocidad.\n",
    "\n",
    "indice|tiempo  |velocidad \n",
    "------|-------------------|------------------\n",
    "0|1       |800\n",
    "1|3       | 2310\n",
    "2|5       | 3090\n",
    "3|7       |3940\n",
    "4|13      |4755\n",
    "\n",
    "\n",
    "Con el polinomio estime la velocida cuando t=10.\n",
    "\n",
    "  + Utilice Lagrange de grado 1, utilizando los puntos 3 y 4 dado que 10 se encuentra entre 7 y 13.\n",
    "  + Utilice Lagrange de grado 2, utilizando los puntos 2,3,4."
   ]
  },
  {
   "cell_type": "code",
   "execution_count": 3,
   "metadata": {},
   "outputs": [
    {
     "name": "stdout",
     "output_type": "stream",
     "text": [
      "Polinomio 25*(x - 13)*(x - 7)*(x - 5)*(x - 3)/18 - 231*(x - 13)*(x - 7)*(x - 5)*(x - 1)/16 + 1545*(x - 13)*(x - 7)*(x - 3)*(x - 1)/64 - 985*(x - 13)*(x - 5)*(x - 3)*(x - 1)/72 + 317*(x - 7)*(x - 5)*(x - 3)*(x - 1)/384\n",
      "\n",
      "polinomio simple -677*x**4/384 + 359*x**3/8 - 75431*x**2/192 + 14509*x/8 - 84975/128\n",
      "\n",
      "Primer grado con evaluacion de T = 10 4347.5 Segundo grado con evaluacion de T = 10 4672.8125\n"
     ]
    },
    {
     "data": {
      "image/png": "[encoded data removed]",
      "text/plain": [
       "<Figure size 432x288 with 1 Axes>"
      ]
     },
     "metadata": {
      "needs_background": "light"
     },
     "output_type": "display_data"
    }
   ],
   "source": [
    "import numpy as np\n",
    "import sympy as sym\n",
    "import matplotlib.pyplot as plt\n",
    "\n",
    "#Ingreso de datos\n",
    "fx = np.array([1, 3, 5, 7, 13])               #5, 7, 13\n",
    "fxi = np.array([800, 2310, 3090, 3940, 4755]) #3090, 3940, 4755\n",
    "\n",
    "\n",
    "#Primer grado\n",
    "a0 = (fxi[3]/ (fx[3] - fx[4]))\n",
    "a1 = (fxi[4]/ (fx[4] - fx [3]))\n",
    "t = 10\n",
    "p1 = a0 * (t-fx[4]) + a1 * (t-fx[3])\n",
    "\n",
    "#Segundo grado\n",
    "A0 = (fxi[2]/((fx[2]-fx[3]) * (fx[2]-fx[4])))\n",
    "A1 = (fxi[3]/((fx[3]-fx[2]) * (fx[3]-fx[4])))\n",
    "A2 = (fxi[4]/((fx[4]-fx[2]) * (fx[4]-fx[3])))\n",
    "\n",
    "p2 = A0 * ((t-fx[3]) * (t - fx[4])) + A1 * ((t-fx[2]) * (t - fx[4])) + A2 * ((t-fx[2]) * (t - fx[3]))\n",
    "\n",
    "#procedimiento\n",
    "n = len(fx)\n",
    "x = sym.Symbol('x')\n",
    "poli = 0\n",
    "i = 0\n",
    "for i in range(0,n,1):\n",
    "    num = 1\n",
    "    den = 1\n",
    "    for j in range(0,n,1):\n",
    "        if (i != j):\n",
    "            num = num * (x - fx[j])\n",
    "            den = den * (fx[i] - fx[j])\n",
    "        termino = (num/den) * fxi[i]\n",
    "    poli = poli + termino\n",
    "polisimple = sym.expand(poli)\n",
    "\n",
    "px = sym.lambdify(x, poli)\n",
    "\n",
    "muestras = 51\n",
    "a = np.min(fx)\n",
    "b = np.max(fx)\n",
    "p_fx = np.linspace(a, b, muestras)\n",
    "p_fxi = px(p_fx)\n",
    "\n",
    "print(\"Polinomio\", poli)\n",
    "print()\n",
    "print(\"polinomio simple\", polisimple)\n",
    "print()\n",
    "print(\"Primer grado con evaluacion de T = 10\", p1, \"Segundo grado con evaluacion de T = 10\", p2)\n",
    "\n",
    "#grafica\n",
    "#plt.plot(fx, fxi, 'o')\n",
    "plt.plot(fx,fxi,'o', label = 'Puntos')\n",
    "plt.plot(p_fx,p_fxi, label = 'Polinomio')\n",
    "plt.legend()\n",
    "plt.plot(p_fx, p_fxi)\n",
    "plt.xlabel('fx')\n",
    "plt.ylabel('fxi')\n",
    "plt.title('Interpolación Lagrange')\n",
    "plt.show()"
   ]
  },
  {
   "cell_type": "code",
   "execution_count": null,
   "metadata": {},
   "outputs": [],
   "source": []
  },
  {
   "cell_type": "markdown",
   "metadata": {},
   "source": [
    "\n",
    "+ Ejercicio 2 (Solo Newton). Ajuste un polinomio de interpolación de Newton de orden 6 con los siguientes puntos.\n",
    "\n",
    "indice|tiempo  |velocidad \n",
    "------|-------------------|------------------\n",
    "0|1.6       |2\n",
    "1|2       | 8\n",
    "2|2.5       |14\n",
    "3|3.2       |15\n",
    "4|4     |8\n",
    "5|4.5 | 2\n",
    "\n",
    "  "
   ]
  },
  {
   "cell_type": "code",
   "execution_count": 4,
   "metadata": {},
   "outputs": [
    {
     "name": "stdout",
     "output_type": "stream",
     "text": [
      "Tabla Diferencia Dividida\n",
      "[['i   ', 'xi  ', 'fi  ', 'F[1]', 'F[2]', 'F[3]', 'F[4]', 'F[5]', 'F[6]']]\n",
      "[[  0.       1.6      2.      15.      -3.3333  -3.4226   1.8477  -0.4812\n",
      "    0.    ]\n",
      " [  1.       2.       8.      12.      -8.8095   1.0119   0.4524   0.\n",
      "    0.    ]\n",
      " [  2.       2.5     14.       1.4286  -6.7857   2.1429   0.       0.\n",
      "    0.    ]\n",
      " [  3.       3.2     15.      -8.75    -2.5      0.       0.       0.\n",
      "    0.    ]\n",
      " [  4.       4.       8.     -12.       0.       0.       0.       0.\n",
      "    0.    ]\n",
      " [  5.       4.5      2.       0.       0.       0.       0.       0.\n",
      "    0.    ]]\n",
      "dDividida: \n",
      "[15.     -3.3333 -3.4226  1.8477 -0.4812  0.    ]\n",
      "polinomio: \n",
      "15.0*x - 0.481150793650793*(x - 4.0)*(x - 3.2)*(x - 2.5)*(x - 2.0)*(x - 1.6) + 1.84771825396825*(x - 3.2)*(x - 2.5)*(x - 2.0)*(x - 1.6) - 3.42261904761904*(x - 2.5)*(x - 2.0)*(x - 1.6) - 3.33333333333334*(x - 2.0)*(x - 1.6) - 22.0\n",
      "polinomio simplificado: \n",
      "-0.481150793650793*x**5 + 8.2470238095238*x**4 - 53.7673115079364*x**3 + 159.836011904762*x**2 - 204.523412698412*x + 91.2857142857141\n"
     ]
    },
    {
     "data": {
      "image/png": "[encoded data removed]",
      "text/plain": [
       "<Figure size 432x288 with 1 Axes>"
      ]
     },
     "metadata": {
      "needs_background": "light"
     },
     "output_type": "display_data"
    }
   ],
   "source": [
    "import numpy as np\n",
    "import sympy as sym\n",
    "import matplotlib.pyplot as plt\n",
    "\n",
    "# INGRESO , Datos de prueba\n",
    "xi = np.array([1.6, 2, 2.5, 3.2, 4, 4.5])\n",
    "fi = np.array([2, 8, 14, 15, 8, 2])\n",
    "\n",
    "# PROCEDIMIENTO\n",
    "\n",
    "# Tabla de Diferencias Divididas Avanzadas\n",
    "titulo = ['i   ','xi  ','fi  ']\n",
    "n = len(xi)\n",
    "ki = np.arange(0,n,1)\n",
    "tabla = np.concatenate(([ki],[xi],[fi]),axis=0)\n",
    "tabla = np.transpose(tabla)\n",
    "\n",
    "# diferencias divididas vacia\n",
    "dfinita = np.zeros(shape=(n,n),dtype=float)\n",
    "tabla = np.concatenate((tabla,dfinita), axis=1)\n",
    "\n",
    "# Calcula tabla, inicia en columna 3\n",
    "[n,m] = np.shape(tabla)\n",
    "diagonal = n-1\n",
    "j = 3\n",
    "while (j < m):\n",
    "    # Añade título para cada columna\n",
    "    titulo.append('F['+str(j-2)+']')\n",
    "\n",
    "    # cada fila de columna\n",
    "    i = 0\n",
    "    paso = j-2 # inicia en 1\n",
    "    while (i < diagonal):\n",
    "        denominador = (xi[i+paso]-xi[i])\n",
    "        numerador = tabla[i+1,j-1]-tabla[i,j-1]\n",
    "        tabla[i,j] = numerador/denominador\n",
    "        i = i+1\n",
    "    diagonal = diagonal - 1\n",
    "    j = j+1\n",
    "\n",
    "# POLINOMIO con diferencias Divididas\n",
    "# caso: puntos equidistantes en eje x\n",
    "dDividida = tabla[0,3:]\n",
    "n = len(dfinita)\n",
    "\n",
    "# expresión del polinomio con Sympy\n",
    "x = sym.Symbol('x')\n",
    "polinomio = fi[0]\n",
    "for j in range(1,n,1):\n",
    "    factor = dDividida[j-1]\n",
    "    termino = 1\n",
    "    for k in range(0,j,1):\n",
    "        termino = termino*(x-xi[k])\n",
    "    polinomio = polinomio + termino*factor\n",
    "\n",
    "# simplifica multiplicando entre (x-xi)\n",
    "polisimple = polinomio.expand()\n",
    "\n",
    "# polinomio para evaluacion numérica\n",
    "px = sym.lambdify(x,polisimple)\n",
    "\n",
    "# Puntos para la gráfica\n",
    "muestras = 101\n",
    "a = np.min(xi)\n",
    "b = np.max(xi)\n",
    "pxi = np.linspace(a,b,muestras)\n",
    "pfi = px(pxi)\n",
    "\n",
    "# SALIDA\n",
    "np.set_printoptions(precision = 4)\n",
    "print('Tabla Diferencia Dividida')\n",
    "print([titulo])\n",
    "print(tabla)\n",
    "print('dDividida: ')\n",
    "print(dDividida)\n",
    "print('polinomio: ')\n",
    "print(polinomio)\n",
    "print('polinomio simplificado: ' )\n",
    "print(polisimple)\n",
    "\n",
    "# Gráfica\n",
    "plt.plot(xi,fi,'o', label = 'Puntos')\n",
    "##for i in range(0,n,1):\n",
    "##    plt.axvline(xi[i],ls='--', color='yellow')\n",
    "plt.plot(pxi,pfi, label = 'Polinomio')\n",
    "plt.legend()\n",
    "plt.xlabel('xi')\n",
    "plt.ylabel('fi')\n",
    "plt.title('Diferencias Divididas - Newton')\n",
    "plt.show()"
   ]
  },
  {
   "cell_type": "code",
   "execution_count": null,
   "metadata": {},
   "outputs": [],
   "source": []
  }
 ],
 "metadata": {
  "kernelspec": {
   "display_name": "Python 3",
   "language": "python",
   "name": "python3"
  },
  "language_info": {
   "codemirror_mode": {
    "name": "ipython",
    "version": 3
   },
   "file_extension": ".py",
   "mimetype": "text/x-python",
   "name": "python",
   "nbconvert_exporter": "python",
   "pygments_lexer": "ipython3",
   "version": "3.8.5"
  }
 },
 "nbformat": 4,
 "nbformat_minor": 4
}
